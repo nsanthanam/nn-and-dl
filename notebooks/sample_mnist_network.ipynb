{
 "cells": [
  {
   "cell_type": "code",
   "execution_count": 1,
   "metadata": {},
   "outputs": [
    {
     "name": "stdout",
     "output_type": "stream",
     "text": [
      "/Users/navaneethan/Documents/courses/neural-networks-and-deep-learning/src\n"
     ]
    }
   ],
   "source": [
    "cd ../src/"
   ]
  },
  {
   "cell_type": "code",
   "execution_count": 2,
   "metadata": {},
   "outputs": [],
   "source": [
    "%matplotlib inline\n",
    "import mnist_loader\n",
    "import matplotlib.pyplot as plt"
   ]
  },
  {
   "cell_type": "code",
   "execution_count": 3,
   "metadata": {},
   "outputs": [],
   "source": [
    "training_data, validation_data, test_data = mnist_loader.load_data_wrapper()"
   ]
  },
  {
   "cell_type": "code",
   "execution_count": 4,
   "metadata": {},
   "outputs": [],
   "source": [
    "import network"
   ]
  },
  {
   "cell_type": "markdown",
   "metadata": {},
   "source": [
    " - 784 - 28x28 pixel image vectorised into 784 pixels\n",
    " - 30  - size of the hidden layer\n",
    " - 10  - size of the output layer"
   ]
  },
  {
   "cell_type": "markdown",
   "metadata": {},
   "source": [
    "# Network with 30-unit hidden layer"
   ]
  },
  {
   "cell_type": "code",
   "execution_count": null,
   "metadata": {},
   "outputs": [],
   "source": [
    "net = network.Network([784, 30, 10])"
   ]
  },
  {
   "cell_type": "code",
   "execution_count": 6,
   "metadata": {},
   "outputs": [
    {
     "name": "stdout",
     "output_type": "stream",
     "text": [
      "Epoch 0: 9046 / 10000\n",
      "Epoch 1: 9253 / 10000\n",
      "Epoch 2: 9305 / 10000\n",
      "Epoch 3: 9348 / 10000\n",
      "Epoch 4: 9368 / 10000\n",
      "Epoch 5: 9378 / 10000\n",
      "Epoch 6: 9399 / 10000\n",
      "Epoch 7: 9417 / 10000\n",
      "Epoch 8: 9383 / 10000\n",
      "Epoch 9: 9411 / 10000\n",
      "Epoch 10: 9399 / 10000\n",
      "Epoch 11: 9435 / 10000\n",
      "Epoch 12: 9424 / 10000\n",
      "Epoch 13: 9431 / 10000\n",
      "Epoch 14: 9459 / 10000\n",
      "Epoch 15: 9462 / 10000\n",
      "Epoch 16: 9465 / 10000\n",
      "Epoch 17: 9462 / 10000\n",
      "Epoch 18: 9453 / 10000\n",
      "Epoch 19: 9476 / 10000\n",
      "Epoch 20: 9471 / 10000\n",
      "Epoch 21: 9494 / 10000\n",
      "Epoch 22: 9486 / 10000\n",
      "Epoch 23: 9480 / 10000\n",
      "Epoch 24: 9481 / 10000\n",
      "Epoch 25: 9472 / 10000\n",
      "Epoch 26: 9485 / 10000\n",
      "Epoch 27: 9498 / 10000\n",
      "Epoch 28: 9480 / 10000\n",
      "Epoch 29: 9479 / 10000\n"
     ]
    }
   ],
   "source": [
    "epochs = 30\n",
    "mini_batch_size = 10\n",
    "eta = 3.0\n",
    "net.SGD(\n",
    "    training_data=training_data, \n",
    "    epochs=epochs, \n",
    "    mini_batch_size=mini_batch_size, \n",
    "    eta=eta, \n",
    "    test_data=test_data\n",
    ")"
   ]
  },
  {
   "cell_type": "code",
   "execution_count": 7,
   "metadata": {},
   "outputs": [
    {
     "data": {
      "text/plain": [
       "[<matplotlib.lines.Line2D at 0x10ccce1d0>]"
      ]
     },
     "execution_count": 7,
     "metadata": {},
     "output_type": "execute_result"
    },
    {
     "data": {
      "image/png": "[encoded data removed]",
      "text/plain": [
       "<matplotlib.figure.Figure at 0x10e3b3c50>"
      ]
     },
     "metadata": {},
     "output_type": "display_data"
    }
   ],
   "source": [
    "plt.plot(net.epoch_accuracy)"
   ]
  },
  {
   "cell_type": "markdown",
   "metadata": {},
   "source": [
    "# Network with 100-unit hidden layer"
   ]
  },
  {
   "cell_type": "code",
   "execution_count": 8,
   "metadata": {},
   "outputs": [],
   "source": [
    "net2 = network.Network([784, 100, 10])"
   ]
  },
  {
   "cell_type": "code",
   "execution_count": 9,
   "metadata": {},
   "outputs": [
    {
     "name": "stdout",
     "output_type": "stream",
     "text": [
      "Epoch 0: 8301 / 10000\n",
      "Epoch 1: 9284 / 10000\n",
      "Epoch 2: 9396 / 10000\n",
      "Epoch 3: 9457 / 10000\n",
      "Epoch 4: 9509 / 10000\n",
      "Epoch 5: 9514 / 10000\n",
      "Epoch 6: 9534 / 10000\n",
      "Epoch 7: 9533 / 10000\n",
      "Epoch 8: 9519 / 10000\n",
      "Epoch 9: 9552 / 10000\n",
      "Epoch 10: 9565 / 10000\n",
      "Epoch 11: 9554 / 10000\n",
      "Epoch 12: 9579 / 10000\n",
      "Epoch 13: 9599 / 10000\n",
      "Epoch 14: 9588 / 10000\n",
      "Epoch 15: 9589 / 10000\n",
      "Epoch 16: 9604 / 10000\n",
      "Epoch 17: 9616 / 10000\n",
      "Epoch 18: 9593 / 10000\n",
      "Epoch 19: 9626 / 10000\n",
      "Epoch 20: 9617 / 10000\n",
      "Epoch 21: 9624 / 10000\n",
      "Epoch 22: 9629 / 10000\n",
      "Epoch 23: 9618 / 10000\n",
      "Epoch 24: 9637 / 10000\n",
      "Epoch 25: 9633 / 10000\n",
      "Epoch 26: 9623 / 10000\n",
      "Epoch 27: 9634 / 10000\n",
      "Epoch 28: 9630 / 10000\n",
      "Epoch 29: 9624 / 10000\n"
     ]
    }
   ],
   "source": [
    "epochs = 30\n",
    "mini_batch_size = 10\n",
    "eta = 3.0\n",
    "net2.SGD(\n",
    "    training_data=training_data, \n",
    "    epochs=epochs, \n",
    "    mini_batch_size=mini_batch_size, \n",
    "    eta=eta, \n",
    "    test_data=test_data\n",
    ")"
   ]
  },
  {
   "cell_type": "code",
   "execution_count": 10,
   "metadata": {},
   "outputs": [
    {
     "data": {
      "text/plain": [
       "[<matplotlib.lines.Line2D at 0x10cd1bd90>]"
      ]
     },
     "execution_count": 10,
     "metadata": {},
     "output_type": "execute_result"
    },
    {
     "data": {
      "image/png": "[encoded data removed]",
      "text/plain": [
       "<matplotlib.figure.Figure at 0x10ceb6b90>"
      ]
     },
     "metadata": {},
     "output_type": "display_data"
    }
   ],
   "source": [
    "plt.plot(net2.epoch_accuracy)"
   ]
  },
  {
   "cell_type": "code",
   "execution_count": null,
   "metadata": {},
   "outputs": [],
   "source": []
  }
 ],
 "metadata": {
  "kernelspec": {
   "display_name": "Python 2",
   "language": "python",
   "name": "python2"
  },
  "language_info": {
   "codemirror_mode": {
    "name": "ipython",
    "version": 2
   },
   "file_extension": ".py",
   "mimetype": "text/x-python",
   "name": "python",
   "nbconvert_exporter": "python",
   "pygments_lexer": "ipython2",
   "version": "2.7.10"
  }
 },
 "nbformat": 4,
 "nbformat_minor": 2
}
